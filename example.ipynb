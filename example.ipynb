{
 "cells": [
  {
   "cell_type": "markdown",
   "metadata": {},
   "source": [
    "# CoPyCAT Tutorial"
   ]
  },
  {
   "cell_type": "markdown",
   "metadata": {},
   "source": [
    "This tutorial will take you through a basic example of CoPyCAT."
   ]
  },
  {
   "cell_type": "markdown",
   "metadata": {},
   "source": [
    "The first step is to import the necessary packages."
   ]
  },
  {
   "cell_type": "code",
   "execution_count": 1,
   "metadata": {},
   "outputs": [],
   "source": [
    "import CoPyCAT as copycat\n"
   ]
  },
  {
   "cell_type": "markdown",
   "metadata": {},
   "source": [
    "Now we try loading a text file"
   ]
  },
  {
   "cell_type": "code",
   "execution_count": 2,
   "metadata": {},
   "outputs": [
    {
     "name": "stdout",
     "output_type": "stream",
     "text": [
      "            speaker                                            content\n",
      "0  MARGARET BRENNAN   Welcome back to Face the Nation. We now go to...\n",
      "1    SEN GILLIBRAND                             Thank you Margaret. \\n\n",
      "2  MARGARET BRENNAN   You have said that you are a no on the presid...\n",
      "3    SEN GILLIBRAND   Well, he's the one who got rid of DACA protec...\n",
      "4  MARGARET BRENNAN   The president said this morning in a tweet th...\n",
      "5    SEN GILLIBRAND   No I don't. I don't take him on his word on a...\n",
      "6  MARGARET BRENNAN   Well Democrats would have to agree to anythin...\n",
      "7    SEN GILLIBRAND   Well what I wish he would do is just open up ...\n",
      "8  MARGARET BRENNAN    And that means money order a border barrier? \\n\n",
      "9    SEN GILLIBRAND   I don't think that's the most effective way t...\n"
     ]
    }
   ],
   "source": [
    "file_path = \".\\example_transcripts\\demo.txt\"\n",
    "transcript = copycat.create_speech_turns(file_path)\n",
    "\n",
    "print(transcript)"
   ]
  }
 ],
 "metadata": {
  "kernelspec": {
   "display_name": "Python 3.10.4 ('venv': venv)",
   "language": "python",
   "name": "python3"
  },
  "language_info": {
   "codemirror_mode": {
    "name": "ipython",
    "version": 3
   },
   "file_extension": ".py",
   "mimetype": "text/x-python",
   "name": "python",
   "nbconvert_exporter": "python",
   "pygments_lexer": "ipython3",
   "version": "3.10.4"
  },
  "orig_nbformat": 4,
  "vscode": {
   "interpreter": {
    "hash": "c92c4016061b28c8fc86aefb95dd07ce780f992514c315be51ce92c6c9736cbb"
   }
  }
 },
 "nbformat": 4,
 "nbformat_minor": 2
}
