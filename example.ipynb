{
 "cells": [
  {
   "cell_type": "markdown",
   "metadata": {},
   "source": [
    "# CoPyCAT Tutorial"
   ]
  },
  {
   "cell_type": "markdown",
   "metadata": {},
   "source": [
    "This tutorial will take you through a basic example of CoPyCAT."
   ]
  },
  {
   "cell_type": "markdown",
   "metadata": {},
   "source": [
    "The first step is to import the necessary packages."
   ]
  },
  {
   "cell_type": "code",
   "execution_count": 1,
   "metadata": {},
   "outputs": [],
   "source": [
    "import CoPyCAT as copycat\n"
   ]
  },
  {
   "cell_type": "markdown",
   "metadata": {},
   "source": [
    "Now we try loading a text file"
   ]
  },
  {
   "cell_type": "code",
   "execution_count": 2,
   "metadata": {},
   "outputs": [
    {
     "name": "stdout",
     "output_type": "stream",
     "text": [
      "             speaker                                            content  \\\n",
      "0   MARGARET BRENNAN   Welcome back to Face the Nation. We now go to...   \n",
      "1                 \\n                                               None   \n",
      "2     SEN GILLIBRAND                             Thank you Margaret. \\n   \n",
      "3                 \\n                                               None   \n",
      "4   MARGARET BRENNAN   You have said that you are a no on the presid...   \n",
      "5                 \\n                                               None   \n",
      "6     SEN GILLIBRAND   Well, he's the one who got rid of DACA protec...   \n",
      "7                 \\n                                               None   \n",
      "8   MARGARET BRENNAN   The president said this morning in a tweet th...   \n",
      "9     SEN GILLIBRAND   No I don't. I don't take him on his word on a...   \n",
      "10  MARGARET BRENNAN   Well Democrats would have to agree to anythin...   \n",
      "11    SEN GILLIBRAND   Well what I wish he would do is just open up ...   \n",
      "12  MARGARET BRENNAN    And that means money order a border barrier? \\n   \n",
      "13    SEN GILLIBRAND   I don't think that's the most effective way t...   \n",
      "\n",
      "    speech_turn  \n",
      "0             0  \n",
      "1             1  \n",
      "2             2  \n",
      "3             3  \n",
      "4             4  \n",
      "5             5  \n",
      "6             6  \n",
      "7             7  \n",
      "8             8  \n",
      "9             9  \n",
      "10           10  \n",
      "11           11  \n",
      "12           12  \n",
      "13           13  \n"
     ]
    }
   ],
   "source": [
    "file_path = \".\\example_transcripts\\demo.txt\"\n",
    "transcript = copycat.createDataframe(file_path)\n",
    "\n",
    "print(transcript)"
   ]
  }
 ],
 "metadata": {
  "kernelspec": {
   "display_name": "Python 3.10.4 ('venv': venv)",
   "language": "python",
   "name": "python3"
  },
  "language_info": {
   "codemirror_mode": {
    "name": "ipython",
    "version": 3
   },
   "file_extension": ".py",
   "mimetype": "text/x-python",
   "name": "python",
   "nbconvert_exporter": "python",
   "pygments_lexer": "ipython3",
   "version": "3.10.4"
  },
  "orig_nbformat": 4,
  "vscode": {
   "interpreter": {
    "hash": "c92c4016061b28c8fc86aefb95dd07ce780f992514c315be51ce92c6c9736cbb"
   }
  }
 },
 "nbformat": 4,
 "nbformat_minor": 2
}
